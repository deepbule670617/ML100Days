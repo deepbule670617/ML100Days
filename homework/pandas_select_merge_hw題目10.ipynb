{
 "cells": [
  {
   "cell_type": "markdown",
   "metadata": {
    "id": "Uf6dEaWpP3lo"
   },
   "source": [
    "作業目標:<br>\n",
    "1. 運用索引找出需要資料<br>\n",
    "2. 合併資料的分法應用"
   ]
  },
  {
   "cell_type": "markdown",
   "metadata": {
    "id": "3rP6NOVVQZuB"
   },
   "source": [
    "作業重點:<br>\n",
    "1. 分辨索引loc、iloc差別\n",
    "2. 分辨合併資料方法的不同，因應不同情況使用Merge, join, concatenate"
   ]
  },
  {
   "cell_type": "markdown",
   "metadata": {
    "id": "02Ld_89FP-4N"
   },
   "source": [
    "題目:<br>\n",
    "讀取STOCK_DAY_0050_202009.csv串聯STOCK_DAY_0050_202010.csv，並且找出open小於close的資料\n"
   ]
  },
  {
   "cell_type": "code",
   "execution_count": 1,
   "metadata": {
    "id": "ysjY4kR5P4rA"
   },
   "outputs": [],
   "source": [
    "import pandas as pd"
   ]
  },
  {
   "cell_type": "code",
   "execution_count": 6,
   "metadata": {
    "id": "hsEDbEogG4DG"
   },
   "outputs": [
    {
     "name": "stdout",
     "output_type": "stream",
     "text": [
      "        date    open    high     low   close\n",
      "0  109/09/01  102.45  103.35  101.85  103.35\n",
      "1  109/09/02  103.65  104.05  102.30  103.00\n",
      "2  109/09/03  103.70  104.30  103.20  103.30\n",
      "3  109/09/04  102.00  102.70  101.90  102.55\n",
      "4  109/09/07  102.55  103.05  101.90  102.40\n",
      "        date    open    high     low   close\n",
      "0  109/10/05  103.45  104.05  103.00  103.05\n",
      "1  109/10/06  104.00  104.35  103.85  104.25\n",
      "2  109/10/07  104.00  105.00  103.50  104.80\n",
      "3  109/10/08  105.45  106.35  105.30  106.20\n",
      "4  109/10/12  106.70  107.70  106.70  107.05\n"
     ]
    }
   ],
   "source": [
    "#讀取STOCK_DAY_0050_202009.csv、STOCK_DAY_0050_202010.csv\n",
    "STOCK1 = pd.read_csv('STOCK_DAY_0050_202009.csv')\n",
    "STOCK2 = pd.read_csv('STOCK_DAY_0050_202010.csv')\n",
    "print(STOCK1.head(5))\n",
    "print(STOCK2.head(5))"
   ]
  },
  {
   "cell_type": "code",
   "execution_count": 4,
   "metadata": {
    "id": "cw3OMgQgG4DG"
   },
   "outputs": [
    {
     "data": {
      "text/html": [
       "<div>\n",
       "<style scoped>\n",
       "    .dataframe tbody tr th:only-of-type {\n",
       "        vertical-align: middle;\n",
       "    }\n",
       "\n",
       "    .dataframe tbody tr th {\n",
       "        vertical-align: top;\n",
       "    }\n",
       "\n",
       "    .dataframe thead th {\n",
       "        text-align: right;\n",
       "    }\n",
       "</style>\n",
       "<table border=\"1\" class=\"dataframe\">\n",
       "  <thead>\n",
       "    <tr style=\"text-align: right;\">\n",
       "      <th></th>\n",
       "      <th>date</th>\n",
       "      <th>open</th>\n",
       "      <th>high</th>\n",
       "      <th>low</th>\n",
       "      <th>close</th>\n",
       "    </tr>\n",
       "  </thead>\n",
       "  <tbody>\n",
       "    <tr>\n",
       "      <th>0</th>\n",
       "      <td>109/09/01</td>\n",
       "      <td>102.45</td>\n",
       "      <td>103.35</td>\n",
       "      <td>101.85</td>\n",
       "      <td>103.35</td>\n",
       "    </tr>\n",
       "    <tr>\n",
       "      <th>1</th>\n",
       "      <td>109/09/02</td>\n",
       "      <td>103.65</td>\n",
       "      <td>104.05</td>\n",
       "      <td>102.30</td>\n",
       "      <td>103.00</td>\n",
       "    </tr>\n",
       "    <tr>\n",
       "      <th>2</th>\n",
       "      <td>109/09/03</td>\n",
       "      <td>103.70</td>\n",
       "      <td>104.30</td>\n",
       "      <td>103.20</td>\n",
       "      <td>103.30</td>\n",
       "    </tr>\n",
       "    <tr>\n",
       "      <th>3</th>\n",
       "      <td>109/09/04</td>\n",
       "      <td>102.00</td>\n",
       "      <td>102.70</td>\n",
       "      <td>101.90</td>\n",
       "      <td>102.55</td>\n",
       "    </tr>\n",
       "    <tr>\n",
       "      <th>4</th>\n",
       "      <td>109/09/07</td>\n",
       "      <td>102.55</td>\n",
       "      <td>103.05</td>\n",
       "      <td>101.90</td>\n",
       "      <td>102.40</td>\n",
       "    </tr>\n",
       "  </tbody>\n",
       "</table>\n",
       "</div>"
      ],
      "text/plain": [
       "        date    open    high     low   close\n",
       "0  109/09/01  102.45  103.35  101.85  103.35\n",
       "1  109/09/02  103.65  104.05  102.30  103.00\n",
       "2  109/09/03  103.70  104.30  103.20  103.30\n",
       "3  109/09/04  102.00  102.70  101.90  102.55\n",
       "4  109/09/07  102.55  103.05  101.90  102.40"
      ]
     },
     "execution_count": 4,
     "metadata": {},
     "output_type": "execute_result"
    }
   ],
   "source": [
    "#串聯\n",
    "STOCK = pd.concat([STOCK1,STOCK2],axis=0)\n",
    "STOCK.head(5)"
   ]
  },
  {
   "cell_type": "code",
   "execution_count": 7,
   "metadata": {
    "executionInfo": {
     "elapsed": 957,
     "status": "ok",
     "timestamp": 1610348842287,
     "user": {
      "displayName": "献竤黃",
      "photoUrl": "",
      "userId": "07529243043474362942"
     },
     "user_tz": -480
    },
    "id": "LBBLV7TaG4DH",
    "scrolled": true
   },
   "outputs": [
    {
     "data": {
      "text/html": [
       "<div>\n",
       "<style scoped>\n",
       "    .dataframe tbody tr th:only-of-type {\n",
       "        vertical-align: middle;\n",
       "    }\n",
       "\n",
       "    .dataframe tbody tr th {\n",
       "        vertical-align: top;\n",
       "    }\n",
       "\n",
       "    .dataframe thead th {\n",
       "        text-align: right;\n",
       "    }\n",
       "</style>\n",
       "<table border=\"1\" class=\"dataframe\">\n",
       "  <thead>\n",
       "    <tr style=\"text-align: right;\">\n",
       "      <th></th>\n",
       "      <th>open</th>\n",
       "      <th>close</th>\n",
       "    </tr>\n",
       "  </thead>\n",
       "  <tbody>\n",
       "    <tr>\n",
       "      <th>0</th>\n",
       "      <td>102.45</td>\n",
       "      <td>103.35</td>\n",
       "    </tr>\n",
       "    <tr>\n",
       "      <th>3</th>\n",
       "      <td>102.00</td>\n",
       "      <td>102.55</td>\n",
       "    </tr>\n",
       "    <tr>\n",
       "      <th>5</th>\n",
       "      <td>102.75</td>\n",
       "      <td>103.00</td>\n",
       "    </tr>\n",
       "    <tr>\n",
       "      <th>6</th>\n",
       "      <td>101.75</td>\n",
       "      <td>102.30</td>\n",
       "    </tr>\n",
       "    <tr>\n",
       "      <th>7</th>\n",
       "      <td>102.80</td>\n",
       "      <td>103.20</td>\n",
       "    </tr>\n",
       "    <tr>\n",
       "      <th>8</th>\n",
       "      <td>103.20</td>\n",
       "      <td>103.25</td>\n",
       "    </tr>\n",
       "    <tr>\n",
       "      <th>9</th>\n",
       "      <td>103.50</td>\n",
       "      <td>104.55</td>\n",
       "    </tr>\n",
       "    <tr>\n",
       "      <th>10</th>\n",
       "      <td>104.45</td>\n",
       "      <td>104.95</td>\n",
       "    </tr>\n",
       "    <tr>\n",
       "      <th>19</th>\n",
       "      <td>101.35</td>\n",
       "      <td>102.30</td>\n",
       "    </tr>\n",
       "    <tr>\n",
       "      <th>21</th>\n",
       "      <td>102.75</td>\n",
       "      <td>103.00</td>\n",
       "    </tr>\n",
       "    <tr>\n",
       "      <th>1</th>\n",
       "      <td>104.00</td>\n",
       "      <td>104.25</td>\n",
       "    </tr>\n",
       "    <tr>\n",
       "      <th>2</th>\n",
       "      <td>104.00</td>\n",
       "      <td>104.80</td>\n",
       "    </tr>\n",
       "    <tr>\n",
       "      <th>3</th>\n",
       "      <td>105.45</td>\n",
       "      <td>106.20</td>\n",
       "    </tr>\n",
       "    <tr>\n",
       "      <th>4</th>\n",
       "      <td>106.70</td>\n",
       "      <td>107.05</td>\n",
       "    </tr>\n",
       "    <tr>\n",
       "      <th>9</th>\n",
       "      <td>105.65</td>\n",
       "      <td>106.60</td>\n",
       "    </tr>\n",
       "    <tr>\n",
       "      <th>12</th>\n",
       "      <td>105.70</td>\n",
       "      <td>106.10</td>\n",
       "    </tr>\n",
       "  </tbody>\n",
       "</table>\n",
       "</div>"
      ],
      "text/plain": [
       "      open   close\n",
       "0   102.45  103.35\n",
       "3   102.00  102.55\n",
       "5   102.75  103.00\n",
       "6   101.75  102.30\n",
       "7   102.80  103.20\n",
       "8   103.20  103.25\n",
       "9   103.50  104.55\n",
       "10  104.45  104.95\n",
       "19  101.35  102.30\n",
       "21  102.75  103.00\n",
       "1   104.00  104.25\n",
       "2   104.00  104.80\n",
       "3   105.45  106.20\n",
       "4   106.70  107.05\n",
       "9   105.65  106.60\n",
       "12  105.70  106.10"
      ]
     },
     "execution_count": 7,
     "metadata": {},
     "output_type": "execute_result"
    }
   ],
   "source": [
    "#找出open小於close的資料\n",
    "STOCK.loc[(STOCK.open)<(STOCK.close),['open','close']]\n"
   ]
  },
  {
   "cell_type": "code",
   "execution_count": null,
   "metadata": {
    "id": "tZaFA68VG4DH"
   },
   "outputs": [],
   "source": []
  }
 ],
 "metadata": {
  "colab": {
   "collapsed_sections": [],
   "name": "pandas_select_merge_hw題目.ipynb",
   "provenance": []
  },
  "kernelspec": {
   "display_name": "Python 3",
   "language": "python",
   "name": "python3"
  },
  "language_info": {
   "codemirror_mode": {
    "name": "ipython",
    "version": 3
   },
   "file_extension": ".py",
   "mimetype": "text/x-python",
   "name": "python",
   "nbconvert_exporter": "python",
   "pygments_lexer": "ipython3",
   "version": "3.7.6"
  }
 },
 "nbformat": 4,
 "nbformat_minor": 1
}
